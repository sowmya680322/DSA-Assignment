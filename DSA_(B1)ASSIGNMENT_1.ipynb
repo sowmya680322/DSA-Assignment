{
  "nbformat": 4,
  "nbformat_minor": 0,
  "metadata": {
    "colab": {
      "provenance": []
    },
    "kernelspec": {
      "name": "python3",
      "display_name": "Python 3"
    },
    "language_info": {
      "name": "python"
    }
  },
  "cells": [
    {
      "cell_type": "markdown",
      "source": [
        "Question 1. Read the dataset to python environment\n"
      ],
      "metadata": {
        "id": "VAxoyb_ev6-z"
      }
    },
    {
      "cell_type": "code",
      "execution_count": 13,
      "metadata": {
        "colab": {
          "base_uri": "https://localhost:8080/"
        },
        "id": "2AFBjd5OlEc-",
        "outputId": "a3f0f955-1d1d-4a36-b8c3-16338e254be3"
      },
      "outputs": [
        {
          "output_type": "stream",
          "name": "stdout",
          "text": [
            "      SL   SW   PL   PW   Classification\n",
            "0    5.1  3.5  1.4  0.2      Iris-setosa\n",
            "1    4.9  3.0  1.4  0.2      Iris-setosa\n",
            "2    4.7  3.2  1.3  0.2      Iris-setosa\n",
            "3    4.6  3.1  1.5  0.2      Iris-setosa\n",
            "4    5.0  3.6  1.4  0.2      Iris-setosa\n",
            "5    5.4  3.9  1.7  0.4      Iris-setosa\n",
            "6    4.6  3.4  1.4  0.3      Iris-setosa\n",
            "7    5.0  3.4  1.5  0.2      Iris-setosa\n",
            "8    4.4  2.9  1.4  0.2      Iris-setosa\n",
            "9    4.9  3.1  1.5  0.1      Iris-setosa\n",
            "10   5.4  3.7  1.5  0.2      Iris-setosa\n",
            "11   4.8  3.4  1.6  0.2      Iris-setosa\n",
            "12   4.8  3.0  1.4  0.1      Iris-setosa\n",
            "13   4.3  3.0  1.1  0.1      Iris-setosa\n",
            "14   5.8  4.0  1.2  0.2      Iris-setosa\n",
            "15   5.7  4.4  1.5  0.4      Iris-setosa\n",
            "16   5.4  3.9  1.3  0.4      Iris-setosa\n",
            "17   5.1  3.5  1.4  0.3      Iris-setosa\n",
            "18   5.7  3.8  1.7  0.3      Iris-setosa\n",
            "19   5.1  3.8  1.5  0.3      Iris-setosa\n",
            "20   5.4  3.4  1.7  0.2      Iris-setosa\n",
            "21   5.1  3.7  1.5  0.4      Iris-setosa\n",
            "22   4.6  3.6  1.0  0.2      Iris-setosa\n",
            "23   5.1  3.3  1.7  0.5      Iris-setosa\n",
            "24   4.8  3.4  1.9  0.2      Iris-setosa\n",
            "25   5.0  3.0  1.6  0.2      Iris-setosa\n",
            "26   5.0  3.4  1.6  0.4      Iris-setosa\n",
            "27   5.2  3.5  1.5  0.2      Iris-setosa\n",
            "28   5.2  3.4  1.4  0.2      Iris-setosa\n",
            "29   4.7  3.2  1.6  0.2      Iris-setosa\n",
            "30   4.8  3.1  1.6  0.2      Iris-setosa\n",
            "31   5.4  3.4  1.5  0.4      Iris-setosa\n",
            "32   5.2  4.1  1.5  0.1      Iris-setosa\n",
            "33   5.5  4.2  1.4  0.2      Iris-setosa\n",
            "34   4.9  3.1  1.5  0.1      Iris-setosa\n",
            "35   5.0  3.2  1.2  0.2      Iris-setosa\n",
            "36   5.5  3.5  1.3  0.2      Iris-setosa\n",
            "37   4.9  3.1  1.5  0.1      Iris-setosa\n",
            "38   4.4  3.0  1.3  0.2      Iris-setosa\n",
            "39   5.1  3.4  1.5  0.2      Iris-setosa\n",
            "40   5.0  3.5  1.3  0.3      Iris-setosa\n",
            "41   4.5  2.3  1.3  0.3      Iris-setosa\n",
            "42   4.4  3.2  1.3  0.2      Iris-setosa\n",
            "43   5.0  3.5  1.6  0.6      Iris-setosa\n",
            "44   5.1  3.8  1.9  0.4      Iris-setosa\n",
            "45   4.8  3.0  1.4  0.3      Iris-setosa\n",
            "46   5.1  3.8  1.6  0.2      Iris-setosa\n",
            "47   4.6  3.2  1.4  0.2      Iris-setosa\n",
            "48   5.3  3.7  1.5  0.2      Iris-setosa\n",
            "49   5.0  3.3  1.4  0.2      Iris-setosa\n",
            "50   7.0  3.2  4.7  1.4  Iris-versicolor\n",
            "51   6.4  3.2  4.5  1.5  Iris-versicolor\n",
            "52   6.9  3.1  4.9  1.5  Iris-versicolor\n",
            "53   5.5  2.3  4.0  1.3  Iris-versicolor\n",
            "54   6.5  2.8  4.6  1.5  Iris-versicolor\n",
            "55   5.7  2.8  4.5  1.3  Iris-versicolor\n",
            "56   6.3  3.3  4.7  1.6  Iris-versicolor\n",
            "57   4.9  2.4  3.3  1.0  Iris-versicolor\n",
            "58   6.6  2.9  4.6  1.3  Iris-versicolor\n",
            "59   5.2  2.7  3.9  1.4  Iris-versicolor\n",
            "60   5.0  2.0  3.5  1.0  Iris-versicolor\n",
            "61   5.9  3.0  4.2  1.5  Iris-versicolor\n",
            "62   6.0  2.2  4.0  1.0  Iris-versicolor\n",
            "63   6.1  2.9  4.7  1.4  Iris-versicolor\n",
            "64   5.6  2.9  3.6  1.3  Iris-versicolor\n",
            "65   6.7  3.1  4.4  1.4  Iris-versicolor\n",
            "66   5.6  3.0  4.5  1.5  Iris-versicolor\n",
            "67   5.8  2.7  4.1  1.0  Iris-versicolor\n",
            "68   6.2  2.2  4.5  1.5  Iris-versicolor\n",
            "69   5.6  2.5  3.9  1.1  Iris-versicolor\n",
            "70   5.9  3.2  4.8  1.8  Iris-versicolor\n",
            "71   6.1  2.8  4.0  1.3  Iris-versicolor\n",
            "72   6.3  2.5  4.9  1.5  Iris-versicolor\n",
            "73   6.1  2.8  4.7  1.2  Iris-versicolor\n",
            "74   6.4  2.9  4.3  1.3  Iris-versicolor\n",
            "75   6.6  3.0  4.4  1.4  Iris-versicolor\n",
            "76   6.8  2.8  4.8  1.4  Iris-versicolor\n",
            "77   6.7  3.0  5.0  1.7  Iris-versicolor\n",
            "78   6.0  2.9  4.5  1.5  Iris-versicolor\n",
            "79   5.7  2.6  3.5  1.0  Iris-versicolor\n",
            "80   5.5  2.4  3.8  1.1  Iris-versicolor\n",
            "81   5.5  2.4  3.7  1.0  Iris-versicolor\n",
            "82   5.8  2.7  3.9  1.2  Iris-versicolor\n",
            "83   6.0  2.7  5.1  1.6  Iris-versicolor\n",
            "84   5.4  3.0  4.5  1.5  Iris-versicolor\n",
            "85   6.0  3.4  4.5  1.6  Iris-versicolor\n",
            "86   6.7  3.1  4.7  1.5  Iris-versicolor\n",
            "87   6.3  2.3  4.4  1.3  Iris-versicolor\n",
            "88   5.6  3.0  4.1  1.3  Iris-versicolor\n",
            "89   5.5  2.5  4.0  1.3  Iris-versicolor\n",
            "90   5.5  2.6  4.4  1.2  Iris-versicolor\n",
            "91   6.1  3.0  4.6  1.4  Iris-versicolor\n",
            "92   5.8  2.6  4.0  1.2  Iris-versicolor\n",
            "93   5.0  2.3  3.3  1.0  Iris-versicolor\n",
            "94   5.6  2.7  4.2  1.3  Iris-versicolor\n",
            "95   5.7  3.0  4.2  1.2  Iris-versicolor\n",
            "96   5.7  2.9  4.2  1.3  Iris-versicolor\n",
            "97   6.2  2.9  4.3  1.3  Iris-versicolor\n",
            "98   5.1  2.5  3.0  1.1  Iris-versicolor\n",
            "99   5.7  2.8  4.1  1.3  Iris-versicolor\n",
            "100  6.3  3.3  6.0  2.5   Iris-virginica\n",
            "101  5.8  2.7  5.1  1.9   Iris-virginica\n",
            "102  7.1  3.0  5.9  2.1   Iris-virginica\n",
            "103  6.3  2.9  5.6  1.8   Iris-virginica\n",
            "104  6.5  3.0  5.8  2.2   Iris-virginica\n",
            "105  7.6  3.0  6.6  2.1   Iris-virginica\n",
            "106  4.9  2.5  4.5  1.7   Iris-virginica\n",
            "107  7.3  2.9  6.3  1.8   Iris-virginica\n",
            "108  6.7  2.5  5.8  1.8   Iris-virginica\n",
            "109  7.2  3.6  6.1  2.5   Iris-virginica\n",
            "110  6.5  3.2  5.1  2.0   Iris-virginica\n",
            "111  6.4  2.7  5.3  1.9   Iris-virginica\n",
            "112  6.8  3.0  5.5  2.1   Iris-virginica\n",
            "113  5.7  2.5  5.0  2.0   Iris-virginica\n",
            "114  5.8  2.8  5.1  2.4   Iris-virginica\n",
            "115  6.4  3.2  5.3  2.3   Iris-virginica\n",
            "116  6.5  3.0  5.5  1.8   Iris-virginica\n",
            "117  7.7  3.8  6.7  2.2   Iris-virginica\n",
            "118  7.7  2.6  6.9  2.3   Iris-virginica\n",
            "119  6.0  2.2  5.0  1.5   Iris-virginica\n",
            "120  6.9  3.2  5.7  2.3   Iris-virginica\n",
            "121  5.6  2.8  4.9  2.0   Iris-virginica\n",
            "122  7.7  2.8  6.7  2.0   Iris-virginica\n",
            "123  6.3  2.7  4.9  1.8   Iris-virginica\n",
            "124  6.7  3.3  5.7  2.1   Iris-virginica\n",
            "125  7.2  3.2  6.0  1.8   Iris-virginica\n",
            "126  6.2  2.8  4.8  1.8   Iris-virginica\n",
            "127  6.1  3.0  4.9  1.8   Iris-virginica\n",
            "128  6.4  2.8  5.6  2.1   Iris-virginica\n",
            "129  7.2  3.0  5.8  1.6   Iris-virginica\n",
            "130  7.4  2.8  6.1  1.9   Iris-virginica\n",
            "131  7.9  3.8  6.4  2.0   Iris-virginica\n",
            "132  6.4  2.8  5.6  2.2   Iris-virginica\n",
            "133  6.3  2.8  5.1  1.5   Iris-virginica\n",
            "134  6.1  2.6  5.6  1.4   Iris-virginica\n",
            "135  7.7  3.0  6.1  2.3   Iris-virginica\n",
            "136  6.3  3.4  5.6  2.4   Iris-virginica\n",
            "137  6.4  3.1  5.5  1.8   Iris-virginica\n",
            "138  6.0  3.0  4.8  1.8   Iris-virginica\n",
            "139  6.9  3.1  5.4  2.1   Iris-virginica\n",
            "140  6.7  3.1  5.6  2.4   Iris-virginica\n",
            "141  6.9  3.1  5.1  2.3   Iris-virginica\n",
            "142  5.8  2.7  5.1  1.9   Iris-virginica\n",
            "143  6.8  3.2  5.9  2.3   Iris-virginica\n",
            "144  6.7  3.3  5.7  2.5   Iris-virginica\n",
            "145  6.7  3.0  5.2  2.3   Iris-virginica\n",
            "146  6.3  2.5  5.0  1.9   Iris-virginica\n",
            "147  6.5  3.0  5.2  2.0   Iris-virginica\n",
            "148  6.2  3.4  5.4  2.3   Iris-virginica\n",
            "149  5.9  3.0  5.1  1.8   Iris-virginica\n"
          ]
        }
      ],
      "source": [
        "import pandas as pd\n",
        "\n",
        "df = pd.read_csv('iris.csv')\n",
        "\n",
        "print(df.to_string())"
      ]
    },
    {
      "cell_type": "markdown",
      "source": [
        "Question 2.  Display the columns in the dataset.\n"
      ],
      "metadata": {
        "id": "v1fcRRBUwJmD"
      }
    },
    {
      "cell_type": "code",
      "source": [
        "df.columns"
      ],
      "metadata": {
        "colab": {
          "base_uri": "https://localhost:8080/"
        },
        "id": "1hqSKFufwb7d",
        "outputId": "45b7ec62-7ac0-4320-93ab-c8d7bbe5ed88"
      },
      "execution_count": 16,
      "outputs": [
        {
          "output_type": "execute_result",
          "data": {
            "text/plain": [
              "Index(['SL', 'SW', 'PL', 'PW', 'Classification'], dtype='object')"
            ]
          },
          "metadata": {},
          "execution_count": 16
        }
      ]
    },
    {
      "cell_type": "markdown",
      "source": [
        "Question 3 . Calculate the mean of each column of the dataset."
      ],
      "metadata": {
        "id": "n3MvmRtCxKum"
      }
    },
    {
      "cell_type": "code",
      "source": [
        "df.mean()"
      ],
      "metadata": {
        "colab": {
          "base_uri": "https://localhost:8080/"
        },
        "id": "elucuicmxRoq",
        "outputId": "6c09cea1-727e-45de-e442-f619bb68d760"
      },
      "execution_count": 17,
      "outputs": [
        {
          "output_type": "stream",
          "name": "stderr",
          "text": [
            "<ipython-input-17-c61f0c8f89b5>:1: FutureWarning: The default value of numeric_only in DataFrame.mean is deprecated. In a future version, it will default to False. In addition, specifying 'numeric_only=None' is deprecated. Select only valid columns or specify the value of numeric_only to silence this warning.\n",
            "  df.mean()\n"
          ]
        },
        {
          "output_type": "execute_result",
          "data": {
            "text/plain": [
              "SL    5.843333\n",
              "SW    3.054000\n",
              "PL    3.758667\n",
              "PW    1.198667\n",
              "dtype: float64"
            ]
          },
          "metadata": {},
          "execution_count": 17
        }
      ]
    },
    {
      "cell_type": "markdown",
      "source": [
        "\n",
        "Question 4. Check for the null values present in the dataset.\n",
        "\n"
      ],
      "metadata": {
        "id": "X2KeOSn8yD9N"
      }
    },
    {
      "cell_type": "code",
      "source": [
        "df.isnull().sum()"
      ],
      "metadata": {
        "colab": {
          "base_uri": "https://localhost:8080/"
        },
        "id": "tLbImYOZyYUF",
        "outputId": "7f093d6f-2dd2-4780-dd51-d844f446107e"
      },
      "execution_count": 19,
      "outputs": [
        {
          "output_type": "execute_result",
          "data": {
            "text/plain": [
              "SL                0\n",
              "SW                0\n",
              "PL                0\n",
              "PW                0\n",
              "Classification    0\n",
              "dtype: int64"
            ]
          },
          "metadata": {},
          "execution_count": 19
        }
      ]
    },
    {
      "cell_type": "markdown",
      "source": [
        "Question 5. Perform meaningful visualizations using the dataset. Bring at least 3\n",
        "visualizations"
      ],
      "metadata": {
        "id": "M25sLyLpzRoL"
      }
    },
    {
      "cell_type": "markdown",
      "source": [
        "1.Classification of iris flowers using histograms."
      ],
      "metadata": {
        "id": "ph_CiFczXs_q"
      }
    },
    {
      "cell_type": "code",
      "source": [
        "import matplotlib.pyplot as plt\n",
        "plt.hist(df.Classification)\n",
        "plt.show()"
      ],
      "metadata": {
        "colab": {
          "base_uri": "https://localhost:8080/",
          "height": 430
        },
        "id": "6TNDxBukzZXH",
        "outputId": "fdc6847b-a698-4410-dcea-290ef5b3c26c"
      },
      "execution_count": 26,
      "outputs": [
        {
          "output_type": "display_data",
          "data": {
            "text/plain": [
              "<Figure size 640x480 with 1 Axes>"
            ],
            "image/png": "[encoded data removed]"
          },
          "metadata": {}
        }
      ]
    },
    {
      "cell_type": "markdown",
      "source": [
        "2. Relationship between sepal width and sepal legth using bar graph"
      ],
      "metadata": {
        "id": "Z2zAvc-8YvoY"
      }
    },
    {
      "cell_type": "code",
      "source": [
        " plt.bar(df['SW'],df['SL'])\n",
        "\n"
      ],
      "metadata": {
        "colab": {
          "base_uri": "https://localhost:8080/",
          "height": 447
        },
        "id": "NKExBpPr1iTh",
        "outputId": "cbe0aa80-743a-473e-8b14-355578209dd7"
      },
      "execution_count": 52,
      "outputs": [
        {
          "output_type": "execute_result",
          "data": {
            "text/plain": [
              "<BarContainer object of 150 artists>"
            ]
          },
          "metadata": {},
          "execution_count": 52
        },
        {
          "output_type": "display_data",
          "data": {
            "text/plain": [
              "<Figure size 640x480 with 1 Axes>"
            ],
            "image/png": "[encoded data removed]"
          },
          "metadata": {}
        }
      ]
    },
    {
      "cell_type": "markdown",
      "source": [
        "3.Relationship between sepal lenth and sepal width using scatter chart"
      ],
      "metadata": {
        "id": "AnT5JTR5bW-5"
      }
    },
    {
      "cell_type": "code",
      "source": [
        "x=df.SL\n",
        "y=df.SW\n",
        "plt.scatter(x,y)\n",
        "\n"
      ],
      "metadata": {
        "colab": {
          "base_uri": "https://localhost:8080/",
          "height": 450
        },
        "id": "Qx4VZIbAGp9g",
        "outputId": "b69ac28d-3405-49da-a46f-71894dbf93f5"
      },
      "execution_count": 54,
      "outputs": [
        {
          "output_type": "execute_result",
          "data": {
            "text/plain": [
              "<matplotlib.collections.PathCollection at 0x7ee354e5aa70>"
            ]
          },
          "metadata": {},
          "execution_count": 54
        },
        {
          "output_type": "display_data",
          "data": {
            "text/plain": [
              "<Figure size 640x480 with 1 Axes>"
            ],
            "image/png": "[encoded data removed]"
          },
          "metadata": {}
        }
      ]
    }
  ]
}